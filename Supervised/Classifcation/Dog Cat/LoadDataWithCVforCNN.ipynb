{
 "cells": [
  {
   "cell_type": "code",
   "execution_count": 1,
   "metadata": {},
   "outputs": [],
   "source": [
    "import numpy as np\n",
    "import matplotlib.pyplot as plt\n",
    "import os\n",
    "import cv2\n",
    "from tqdm import tqdm\n",
    "\n",
    "\n",
    "DATADIR=\"F:/TensorFlow/PetImages\"\n",
    "CATEGORIES=[\"Cat\",\"Dog\"]\n",
    "IMG_SIZE=64"
   ]
  },
  {
   "cell_type": "code",
   "execution_count": 2,
   "metadata": {},
   "outputs": [
    {
     "name": "stderr",
     "output_type": "stream",
     "text": [
      "100%|██████████| 12501/12501 [01:31<00:00, 136.24it/s]\n",
      "100%|██████████| 12501/12501 [01:59<00:00, 104.32it/s]"
     ]
    },
    {
     "name": "stdout",
     "output_type": "stream",
     "text": [
      "24946\n"
     ]
    },
    {
     "name": "stderr",
     "output_type": "stream",
     "text": [
      "\n"
     ]
    }
   ],
   "source": [
    "training_data = []\n",
    "\n",
    "def create_training_data():\n",
    "    \n",
    "    for category in CATEGORIES:  # do dogs and cats\n",
    "\n",
    "        path = os.path.join(DATADIR,category)  # create path to dogs and cats\n",
    "        class_num = CATEGORIES.index(category)  # get the classification  (0 or a 1). 0=dog 1=cat\n",
    "\n",
    "        for img in tqdm(os.listdir(path)):  # iterate over each image per dogs and cats\n",
    "            try:\n",
    "                img_array = cv2.imread(os.path.join(path,img),cv2.IMREAD_GRAYSCALE)  # convert to array\n",
    "                new_array = cv2.resize(img_array, (IMG_SIZE, IMG_SIZE))  # resize to normalize data size\n",
    "                training_data.append([new_array, class_num])  # add this to our training_data\n",
    "            except Exception as e:  # in the interest in keeping the output clean...\n",
    "                pass\n",
    "            #except OSError as e:\n",
    "            #    print(\"OSErrroBad img most likely\", e, os.path.join(path,img))\n",
    "            #except Exception as e:\n",
    "            #    print(\"general exception\", e, os.path.join(path,img))\n",
    "\n",
    "create_training_data()\n",
    "\n",
    "print(len(training_data))"
   ]
  },
  {
   "cell_type": "code",
   "execution_count": 3,
   "metadata": {},
   "outputs": [
    {
     "data": {
      "text/plain": [
       "24946"
      ]
     },
     "execution_count": 3,
     "metadata": {},
     "output_type": "execute_result"
    }
   ],
   "source": [
    "len(training_data)"
   ]
  },
  {
   "cell_type": "code",
   "execution_count": 4,
   "metadata": {},
   "outputs": [],
   "source": [
    "import random\n",
    "\n",
    "random.shuffle(training_data)\n",
    "\n",
    "x=[]\n",
    "y=[]\n",
    "\n",
    "for features,labels in training_data:\n",
    "    x.append(features)\n",
    "    y.append(labels)"
   ]
  },
  {
   "cell_type": "code",
   "execution_count": 5,
   "metadata": {},
   "outputs": [
    {
     "data": {
      "text/plain": [
       "(24946, 64, 64)"
      ]
     },
     "execution_count": 5,
     "metadata": {},
     "output_type": "execute_result"
    }
   ],
   "source": [
    "x=np.array(x)\n",
    "y=np.array(y)\n",
    "x.shape\n"
   ]
  },
  {
   "cell_type": "code",
   "execution_count": 6,
   "metadata": {},
   "outputs": [],
   "source": [
    "import pickle\n",
    "\n",
    "pickle_out = open(\"x_64.pickle\",\"wb\")\n",
    "pickle.dump(x, pickle_out)\n",
    "pickle_out.close()\n",
    "\n",
    "pickle_out = open(\"y.pickle\",\"wb\")\n",
    "pickle.dump(y, pickle_out)\n",
    "pickle_out.close()"
   ]
  },
  {
   "cell_type": "code",
   "execution_count": 7,
   "metadata": {},
   "outputs": [
    {
     "data": {
      "image/png": "[encoded data removed]",
      "text/plain": [
       "<Figure size 432x288 with 1 Axes>"
      ]
     },
     "metadata": {
      "needs_background": "light"
     },
     "output_type": "display_data"
    }
   ],
   "source": [
    "i=6000\n",
    "plt.imshow(x[i])\n",
    "plt.show()"
   ]
  },
  {
   "cell_type": "code",
   "execution_count": 21,
   "metadata": {},
   "outputs": [
    {
     "data": {
      "text/plain": [
       "0"
      ]
     },
     "execution_count": 21,
     "metadata": {},
     "output_type": "execute_result"
    }
   ],
   "source": [
    "y[i]"
   ]
  },
  {
   "cell_type": "code",
   "execution_count": 121,
   "metadata": {},
   "outputs": [
    {
     "data": {
      "text/plain": [
       "255"
      ]
     },
     "execution_count": 121,
     "metadata": {},
     "output_type": "execute_result"
    }
   ],
   "source": [
    "from keras.utils import to_categorical\n",
    "\n",
    "x_train=x[:24000]\n",
    "x_test=x[24000:]\n",
    "y_train=y[:24000]\n",
    "y_test=y[24000:]\n",
    "\n",
    "Y_train=to_categorical(y_train,2)\n",
    "Y_test=to_categorical(y_test,2)\n",
    "x_train.shape\n",
    "\n",
    "np.max(x_train[0])"
   ]
  },
  {
   "cell_type": "code",
   "execution_count": 46,
   "metadata": {},
   "outputs": [],
   "source": [
    "from keras.models import Sequential\n",
    "from keras.layers import Conv2D,Activation,Dense,MaxPooling2D,Flatten"
   ]
  },
  {
   "cell_type": "code",
   "execution_count": 99,
   "metadata": {},
   "outputs": [],
   "source": [
    "model=Sequential()\n",
    "model.add(Conv2D(32,(3,3),activation='relu',input_shape=(32,32,3)))\n",
    "model.add(MaxPooling2D((2,2)))\n",
    "\n",
    "model.add(Dense(64,activation='relu'))\n",
    "\n",
    "model.add(Flatten())\n",
    "\n",
    "model.add(Dense(2,activation='softmax'))\n"
   ]
  },
  {
   "cell_type": "code",
   "execution_count": 96,
   "metadata": {},
   "outputs": [
    {
     "name": "stdout",
     "output_type": "stream",
     "text": [
      "Model: \"sequential_4\"\n",
      "_________________________________________________________________\n",
      "Layer (type)                 Output Shape              Param #   \n",
      "=================================================================\n",
      "conv2d_4 (Conv2D)            (None, 30, 30, 32)        896       \n",
      "_________________________________________________________________\n",
      "max_pooling2d_4 (MaxPooling2 (None, 15, 15, 32)        0         \n",
      "_________________________________________________________________\n",
      "dense_5 (Dense)              (None, 15, 15, 64)        2112      \n",
      "_________________________________________________________________\n",
      "flatten_4 (Flatten)          (None, 14400)             0         \n",
      "_________________________________________________________________\n",
      "dense_6 (Dense)              (None, 2)                 28802     \n",
      "=================================================================\n",
      "Total params: 31,810\n",
      "Trainable params: 31,810\n",
      "Non-trainable params: 0\n",
      "_________________________________________________________________\n"
     ]
    }
   ],
   "source": [
    "model.summary()"
   ]
  },
  {
   "cell_type": "code",
   "execution_count": 100,
   "metadata": {},
   "outputs": [],
   "source": [
    "model.compile(optimizer='adam',loss='categorical_crossentropy',metrics=['accuracy'])"
   ]
  },
  {
   "cell_type": "code",
   "execution_count": 120,
   "metadata": {},
   "outputs": [
    {
     "name": "stdout",
     "output_type": "stream",
     "text": [
      "Train on 21600 samples, validate on 2400 samples\n",
      "Epoch 1/30\n",
      "21600/21600 [==============================] - 21s 995us/step - loss: 0.6045 - accuracy: 0.7361 - val_loss: 0.7992 - val_accuracy: 0.6871\n",
      "Epoch 2/30\n",
      "21600/21600 [==============================] - 21s 960us/step - loss: 0.5391 - accuracy: 0.7551 - val_loss: 0.7742 - val_accuracy: 0.6867\n",
      "Epoch 3/30\n",
      "21600/21600 [==============================] - 21s 963us/step - loss: 0.4877 - accuracy: 0.7789 - val_loss: 0.7811 - val_accuracy: 0.6954\n",
      "Epoch 4/30\n",
      "21600/21600 [==============================] - 22s 1ms/step - loss: 0.4566 - accuracy: 0.7925 - val_loss: 0.7663 - val_accuracy: 0.6983\n",
      "Epoch 5/30\n",
      "21600/21600 [==============================] - 21s 992us/step - loss: 0.4235 - accuracy: 0.8053 - val_loss: 0.8072 - val_accuracy: 0.6854\n",
      "Epoch 6/30\n",
      "21600/21600 [==============================] - 23s 1ms/step - loss: 0.4028 - accuracy: 0.8152 - val_loss: 0.7920 - val_accuracy: 0.6862\n",
      "Epoch 7/30\n",
      "21600/21600 [==============================] - 22s 1ms/step - loss: 0.3955 - accuracy: 0.8214 - val_loss: 0.8371 - val_accuracy: 0.6883\n",
      "Epoch 8/30\n",
      "21600/21600 [==============================] - 21s 995us/step - loss: 0.3680 - accuracy: 0.8326 - val_loss: 0.8007 - val_accuracy: 0.6992\n",
      "Epoch 9/30\n",
      "21600/21600 [==============================] - 21s 984us/step - loss: 0.3593 - accuracy: 0.8387 - val_loss: 0.8139 - val_accuracy: 0.6967\n",
      "Epoch 10/30\n",
      "21600/21600 [==============================] - 21s 975us/step - loss: 0.3440 - accuracy: 0.8477 - val_loss: 0.8215 - val_accuracy: 0.6967\n",
      "Epoch 11/30\n",
      "21600/21600 [==============================] - 21s 973us/step - loss: 0.3298 - accuracy: 0.8529 - val_loss: 0.8652 - val_accuracy: 0.6979\n",
      "Epoch 12/30\n",
      "21600/21600 [==============================] - 21s 963us/step - loss: 0.3276 - accuracy: 0.8529 - val_loss: 0.8514 - val_accuracy: 0.6971\n",
      "Epoch 13/30\n",
      "21600/21600 [==============================] - 21s 979us/step - loss: 0.3108 - accuracy: 0.8622 - val_loss: 0.8477 - val_accuracy: 0.6979\n",
      "Epoch 14/30\n",
      "21600/21600 [==============================] - 21s 961us/step - loss: 0.2991 - accuracy: 0.8697 - val_loss: 0.8840 - val_accuracy: 0.7013\n",
      "Epoch 15/30\n",
      "21600/21600 [==============================] - 21s 973us/step - loss: 0.2933 - accuracy: 0.8709 - val_loss: 0.8777 - val_accuracy: 0.7008\n",
      "Epoch 16/30\n",
      "21600/21600 [==============================] - 21s 986us/step - loss: 0.2759 - accuracy: 0.8826 - val_loss: 0.9125 - val_accuracy: 0.6942\n",
      "Epoch 17/30\n",
      "21600/21600 [==============================] - 21s 980us/step - loss: 0.2640 - accuracy: 0.8894 - val_loss: 0.9289 - val_accuracy: 0.7021\n",
      "Epoch 18/30\n",
      "21600/21600 [==============================] - 21s 959us/step - loss: 0.2623 - accuracy: 0.8880 - val_loss: 0.9176 - val_accuracy: 0.6929\n",
      "Epoch 19/30\n",
      "21600/21600 [==============================] - 21s 990us/step - loss: 0.2582 - accuracy: 0.8905 - val_loss: 0.9579 - val_accuracy: 0.6946\n",
      "Epoch 20/30\n",
      "21600/21600 [==============================] - 21s 965us/step - loss: 0.2604 - accuracy: 0.8858 - val_loss: 1.0104 - val_accuracy: 0.7029\n",
      "Epoch 21/30\n",
      "21600/21600 [==============================] - 21s 964us/step - loss: 0.2403 - accuracy: 0.8981 - val_loss: 0.9764 - val_accuracy: 0.6913\n",
      "Epoch 22/30\n",
      "21600/21600 [==============================] - 21s 974us/step - loss: 0.2322 - accuracy: 0.9005 - val_loss: 1.0209 - val_accuracy: 0.7004\n",
      "Epoch 23/30\n",
      "21600/21600 [==============================] - 21s 975us/step - loss: 0.2232 - accuracy: 0.9072 - val_loss: 1.0230 - val_accuracy: 0.6967\n",
      "Epoch 24/30\n",
      "21600/21600 [==============================] - 21s 966us/step - loss: 0.2313 - accuracy: 0.9002 - val_loss: 1.0304 - val_accuracy: 0.6988\n",
      "Epoch 25/30\n",
      "21600/21600 [==============================] - 21s 974us/step - loss: 0.2098 - accuracy: 0.9122 - val_loss: 1.0729 - val_accuracy: 0.6992\n",
      "Epoch 26/30\n",
      "21600/21600 [==============================] - 21s 995us/step - loss: 0.2088 - accuracy: 0.9126 - val_loss: 1.0998 - val_accuracy: 0.6946\n",
      "Epoch 27/30\n",
      "21600/21600 [==============================] - 21s 963us/step - loss: 0.2068 - accuracy: 0.9133 - val_loss: 1.1452 - val_accuracy: 0.6933\n",
      "Epoch 28/30\n",
      "21600/21600 [==============================] - 21s 973us/step - loss: 0.2151 - accuracy: 0.9083 - val_loss: 1.1781 - val_accuracy: 0.6888\n",
      "Epoch 29/30\n",
      "21600/21600 [==============================] - 21s 975us/step - loss: 0.2027 - accuracy: 0.9144 - val_loss: 1.1864 - val_accuracy: 0.6971\n",
      "Epoch 30/30\n",
      "21600/21600 [==============================] - 21s 974us/step - loss: 0.1819 - accuracy: 0.9248 - val_loss: 1.2179 - val_accuracy: 0.6975\n"
     ]
    },
    {
     "data": {
      "text/plain": [
       "<keras.callbacks.callbacks.History at 0x272d6d9ec08>"
      ]
     },
     "execution_count": 120,
     "metadata": {},
     "output_type": "execute_result"
    }
   ],
   "source": [
    "model.fit(x_train,Y_train,epochs=30,batch_size=256,validation_split=0.1)"
   ]
  },
  {
   "cell_type": "code",
   "execution_count": 122,
   "metadata": {},
   "outputs": [
    {
     "name": "stdout",
     "output_type": "stream",
     "text": [
      "946/946 [==============================] - 0s 446us/step\n",
      "1.1100009455489306\n",
      "0.7124735713005066\n"
     ]
    }
   ],
   "source": [
    "loss,acc=model.evaluate(x_test,Y_test)\n",
    "print(loss)\n",
    "print(acc)"
   ]
  },
  {
   "cell_type": "code",
   "execution_count": 123,
   "metadata": {},
   "outputs": [
    {
     "data": {
      "text/plain": [
       "1"
      ]
     },
     "execution_count": 123,
     "metadata": {},
     "output_type": "execute_result"
    }
   ],
   "source": [
    "# x[0].shape\n",
    "i=12024\n",
    "# convert 3d to 4d \n",
    "image = np.expand_dims(x[i], axis=0)\n",
    "# image.shape\n",
    "p=model.predict([image])\n",
    "np.argmax(p[0])\n",
    "# x_test.shape"
   ]
  },
  {
   "cell_type": "code",
   "execution_count": 124,
   "metadata": {},
   "outputs": [
    {
     "data": {
      "text/plain": [
       "1"
      ]
     },
     "execution_count": 124,
     "metadata": {},
     "output_type": "execute_result"
    }
   ],
   "source": [
    "y[i]"
   ]
  },
  {
   "cell_type": "code",
   "execution_count": 126,
   "metadata": {},
   "outputs": [],
   "source": [
    "model.save('dog_cat_71.model')"
   ]
  },
  {
   "cell_type": "code",
   "execution_count": null,
   "metadata": {},
   "outputs": [],
   "source": []
  }
 ],
 "metadata": {
  "kernelspec": {
   "display_name": "Python 3",
   "language": "python",
   "name": "python3"
  },
  "language_info": {
   "codemirror_mode": {
    "name": "ipython",
    "version": 3
   },
   "file_extension": ".py",
   "mimetype": "text/x-python",
   "name": "python",
   "nbconvert_exporter": "python",
   "pygments_lexer": "ipython3",
   "version": "3.7.7"
  }
 },
 "nbformat": 4,
 "nbformat_minor": 4
}
