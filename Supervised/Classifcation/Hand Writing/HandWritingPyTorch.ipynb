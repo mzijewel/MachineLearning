{
  "nbformat": 4,
  "nbformat_minor": 0,
  "metadata": {
    "colab": {
      "provenance": [],
      "gpuType": "T4",
      "authorship_tag": "ABX9TyMsNwE8iRDpp5QuH2PIcUsO",
      "include_colab_link": true
    },
    "kernelspec": {
      "name": "python3",
      "display_name": "Python 3"
    },
    "language_info": {
      "name": "python"
    },
    "accelerator": "GPU"
  },
  "cells": [
    {
      "cell_type": "markdown",
      "metadata": {
        "id": "view-in-github",
        "colab_type": "text"
      },
      "source": [
        "<a href=\"https://colab.research.google.com/github/mzijewel/TensorflowExercise/blob/master/Supervised/Classifcation/Hand%20Writing/HandWritingPyTorch.ipynb\" target=\"_parent\"><img src=\"https://colab.research.google.com/assets/colab-badge.svg\" alt=\"Open In Colab\"/></a>"
      ]
    },
    {
      "cell_type": "code",
      "execution_count": null,
      "metadata": {
        "id": "nZOAKJ79RpFG"
      },
      "outputs": [],
      "source": [
        "# import dependecies\n",
        "import torch\n",
        "from torch import nn,save,load\n",
        "from torch.optim import Adam\n",
        "from torch.utils.data import DataLoader\n",
        "\n",
        "from torchvision import datasets\n",
        "from torchvision.transforms import ToTensor\n",
        "\n"
      ]
    },
    {
      "cell_type": "code",
      "source": [
        "device='cpu' # cuda -> GPU"
      ],
      "metadata": {
        "id": "FVnsOveZY812"
      },
      "execution_count": null,
      "outputs": []
    },
    {
      "cell_type": "code",
      "source": [
        "# get data\n",
        "train=datasets.MNIST(root=\"data\",download=True,train=True,transform=ToTensor())\n",
        "dataset=DataLoader(train,32)\n",
        "# 1,28,28 - classes (0-9)\n"
      ],
      "metadata": {
        "id": "SMfkJwHCRvZe"
      },
      "execution_count": null,
      "outputs": []
    },
    {
      "cell_type": "code",
      "source": [
        "class Model(nn.Module):\n",
        "    def __init__(self):\n",
        "        super().__init__()\n",
        "\n",
        "        self.model=nn.Sequential(\n",
        "            nn.Conv2d(1,32,(3,3)),\n",
        "            nn.ReLU(),\n",
        "            nn.Conv2d(32,64,(3,3)),\n",
        "            nn.ReLU(),\n",
        "            nn.Conv2d(64,64,(3,3)),\n",
        "            nn.ReLU(),\n",
        "            nn.Flatten(),\n",
        "            nn.Linear(64*(28-6)*(28-6),10)\n",
        "\n",
        "        )\n",
        "    def forward(self,x):\n",
        "        return self.model(x)\n"
      ],
      "metadata": {
        "id": "LKjeHa1ARyEh"
      },
      "execution_count": null,
      "outputs": []
    },
    {
      "cell_type": "code",
      "source": [
        "model=Model().to(device)\n",
        "opt=Adam(model.parameters(),lr=0.01)\n",
        "loss_fn=nn.CrossEntropyLoss()"
      ],
      "metadata": {
        "id": "TSPFqwCMR0l6"
      },
      "execution_count": null,
      "outputs": []
    },
    {
      "cell_type": "code",
      "source": [
        "epochs=10\n",
        "\n",
        "for epoch in range(epochs):\n",
        "    for batch in dataset:\n",
        "        x,y=batch\n",
        "        x,y=x.to(device),y.to(device)\n",
        "        y_pred=model(x)\n",
        "        loss=loss_fn(y_pred,y)\n",
        "\n",
        "        opt.zero_grad()\n",
        "        loss.backward()\n",
        "        opt.step()\n",
        "\n",
        "    print(f\"epchs: {epoch} - loss: {loss.item()}\")"
      ],
      "metadata": {
        "colab": {
          "base_uri": "https://localhost:8080/"
        },
        "id": "j9MARybdR2Zc",
        "outputId": "44791fd5-d978-4baf-aedc-f36269c66f0c"
      },
      "execution_count": null,
      "outputs": [
        {
          "output_type": "stream",
          "name": "stdout",
          "text": [
            "epchs: 0 - loss: 0.15860392153263092\n",
            "epchs: 1 - loss: 0.13725341856479645\n",
            "epchs: 2 - loss: 0.09930837899446487\n",
            "epchs: 3 - loss: 0.3471252918243408\n",
            "epchs: 4 - loss: 0.03314599022269249\n",
            "epchs: 5 - loss: 0.010354053229093552\n",
            "epchs: 6 - loss: 0.007118325214833021\n",
            "epchs: 7 - loss: 0.004037690348923206\n",
            "epchs: 8 - loss: 0.001042002229951322\n",
            "epchs: 9 - loss: 0.039903704077005386\n"
          ]
        }
      ]
    },
    {
      "cell_type": "code",
      "source": [
        "!pip install pillow\n",
        "from PIL import Image"
      ],
      "metadata": {
        "colab": {
          "base_uri": "https://localhost:8080/"
        },
        "id": "rT-uQtqvR57j",
        "outputId": "fe3b1c60-1727-4f05-b10e-f83136a5d453"
      },
      "execution_count": null,
      "outputs": [
        {
          "output_type": "stream",
          "name": "stdout",
          "text": [
            "Requirement already satisfied: pillow in /usr/local/lib/python3.10/dist-packages (9.4.0)\n"
          ]
        }
      ]
    },
    {
      "cell_type": "code",
      "source": [
        "img=Image.open('5.png').convert(\"L\").resize((28,28))\n",
        "img_tensor=ToTensor()(img).unsqueeze(0).to('cuda')\n"
      ],
      "metadata": {
        "id": "mLgBa79RT-P6"
      },
      "execution_count": null,
      "outputs": []
    },
    {
      "cell_type": "code",
      "source": [
        "p=model(img_tensor)\n",
        "q=torch.argmax(p)\n",
        "q"
      ],
      "metadata": {
        "colab": {
          "base_uri": "https://localhost:8080/"
        },
        "id": "8wRUKqRaTvfr",
        "outputId": "2924be29-3d61-4bba-cfe7-2c57d6c5a06d"
      },
      "execution_count": null,
      "outputs": [
        {
          "output_type": "execute_result",
          "data": {
            "text/plain": [
              "tensor(5, device='cuda:0')"
            ]
          },
          "metadata": {},
          "execution_count": 24
        }
      ]
    },
    {
      "cell_type": "code",
      "source": [
        "# save model\n",
        "with open('model_state2.pt','wb') as f:\n",
        "  save(model.state_dict(),f)\n"
      ],
      "metadata": {
        "id": "k1GIPeyYTpOQ"
      },
      "execution_count": null,
      "outputs": []
    },
    {
      "cell_type": "code",
      "source": [],
      "metadata": {
        "id": "lumveatrTi7L"
      },
      "execution_count": null,
      "outputs": []
    }
  ]
}