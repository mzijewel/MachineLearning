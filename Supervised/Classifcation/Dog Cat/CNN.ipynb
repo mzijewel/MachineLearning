{
 "cells": [
  {
   "cell_type": "code",
   "execution_count": 1,
   "metadata": {},
   "outputs": [],
   "source": [
    "import pickle \n",
    "\n",
    "pickle_in=open('X.pickle',\"rb\")\n",
    "x = pickle.load(pickle_in)\n",
    "\n",
    "pickle_in = open(\"y.pickle\",\"rb\")\n",
    "y = pickle.load(pickle_in)"
   ]
  },
  {
   "cell_type": "code",
   "execution_count": 3,
   "metadata": {},
   "outputs": [
    {
     "data": {
      "text/plain": [
       "(24946,)"
      ]
     },
     "execution_count": 3,
     "metadata": {},
     "output_type": "execute_result"
    }
   ],
   "source": [
    "y.shape"
   ]
  },
  {
   "cell_type": "code",
   "execution_count": 4,
   "metadata": {},
   "outputs": [
    {
     "name": "stderr",
     "output_type": "stream",
     "text": [
      "Using TensorFlow backend.\n"
     ]
    }
   ],
   "source": [
    "from keras.layers import Activation,Flatten,Dense,MaxPool2D,Conv2D\n",
    "from keras.models import  Sequential"
   ]
  },
  {
   "cell_type": "code",
   "execution_count": 5,
   "metadata": {},
   "outputs": [],
   "source": [
    "model=Sequential()\n",
    "model.add(Conv2D(32,(3,3),activation='relu',input_shape=(32,32,3)))\n",
    "model.add(MaxPool2D(2,2))\n",
    "model.add(Flatten())\n",
    "model.add(Dense(2,activation='softmax'))\n",
    "\n",
    "model.compile(optimizer='adam',loss='categorical_crossentropy',metrics=['accuracy'])"
   ]
  },
  {
   "cell_type": "code",
   "execution_count": 6,
   "metadata": {},
   "outputs": [],
   "source": [
    "from keras.utils import to_categorical\n",
    "x_train=x[:20000]\n",
    "x_test=x[20000:]\n",
    "y_train=y[:20000]\n",
    "y_test=y[20000:]\n",
    "\n",
    "x_train=x_train/255.0\n",
    "x_test=x_test/255.0\n",
    "\n",
    "y_train=to_categorical(y_train,2)\n",
    "y_test=to_categorical(y_test,2)"
   ]
  },
  {
   "cell_type": "code",
   "execution_count": 17,
   "metadata": {
    "scrolled": true
   },
   "outputs": [
    {
     "name": "stdout",
     "output_type": "stream",
     "text": [
      "Train on 16000 samples, validate on 4000 samples\n",
      "Epoch 1/30\n",
      "16000/16000 [==============================] - 19s 1ms/step - loss: 0.3103 - accuracy: 0.8656 - val_loss: 0.6155 - val_accuracy: 0.7312\n",
      "Epoch 2/30\n",
      "16000/16000 [==============================] - 18s 1ms/step - loss: 0.3084 - accuracy: 0.8648 - val_loss: 0.6372 - val_accuracy: 0.7275\n",
      "Epoch 3/30\n",
      "16000/16000 [==============================] - 17s 1ms/step - loss: 0.2992 - accuracy: 0.8714 - val_loss: 0.6237 - val_accuracy: 0.7398\n",
      "Epoch 4/30\n",
      "16000/16000 [==============================] - 18s 1ms/step - loss: 0.2966 - accuracy: 0.8718 - val_loss: 0.6316 - val_accuracy: 0.7335\n",
      "Epoch 5/30\n",
      "16000/16000 [==============================] - 17s 1ms/step - loss: 0.2904 - accuracy: 0.8749 - val_loss: 0.6514 - val_accuracy: 0.7375\n",
      "Epoch 6/30\n",
      "16000/16000 [==============================] - 17s 1ms/step - loss: 0.2840 - accuracy: 0.8772 - val_loss: 0.6729 - val_accuracy: 0.7308\n",
      "Epoch 7/30\n",
      "16000/16000 [==============================] - 16s 988us/step - loss: 0.2843 - accuracy: 0.8789 - val_loss: 0.6778 - val_accuracy: 0.7253\n",
      "Epoch 8/30\n",
      "16000/16000 [==============================] - 16s 1ms/step - loss: 0.2828 - accuracy: 0.8784 - val_loss: 0.6650 - val_accuracy: 0.7297\n",
      "Epoch 9/30\n",
      "16000/16000 [==============================] - 16s 990us/step - loss: 0.2768 - accuracy: 0.8837 - val_loss: 0.6721 - val_accuracy: 0.7308\n",
      "Epoch 10/30\n",
      "16000/16000 [==============================] - 17s 1ms/step - loss: 0.2754 - accuracy: 0.8802 - val_loss: 0.6886 - val_accuracy: 0.7300\n",
      "Epoch 11/30\n",
      "16000/16000 [==============================] - 16s 1ms/step - loss: 0.2683 - accuracy: 0.8872 - val_loss: 0.6942 - val_accuracy: 0.7343\n",
      "Epoch 12/30\n",
      "16000/16000 [==============================] - 16s 1ms/step - loss: 0.2691 - accuracy: 0.8844 - val_loss: 0.6929 - val_accuracy: 0.7308\n",
      "Epoch 13/30\n",
      "16000/16000 [==============================] - 16s 1ms/step - loss: 0.2566 - accuracy: 0.8930 - val_loss: 0.7131 - val_accuracy: 0.7283\n",
      "Epoch 14/30\n",
      "16000/16000 [==============================] - 19s 1ms/step - loss: 0.2600 - accuracy: 0.8892 - val_loss: 0.7138 - val_accuracy: 0.7240\n",
      "Epoch 15/30\n",
      "16000/16000 [==============================] - 19s 1ms/step - loss: 0.2520 - accuracy: 0.8963 - val_loss: 0.7377 - val_accuracy: 0.7278\n",
      "Epoch 16/30\n",
      "16000/16000 [==============================] - 19s 1ms/step - loss: 0.2532 - accuracy: 0.8933 - val_loss: 0.7344 - val_accuracy: 0.7228\n",
      "Epoch 17/30\n",
      "16000/16000 [==============================] - 19s 1ms/step - loss: 0.2477 - accuracy: 0.8933 - val_loss: 0.7334 - val_accuracy: 0.7235\n",
      "Epoch 18/30\n",
      "16000/16000 [==============================] - 18s 1ms/step - loss: 0.2445 - accuracy: 0.8974 - val_loss: 0.7843 - val_accuracy: 0.7132\n",
      "Epoch 19/30\n",
      "16000/16000 [==============================] - 17s 1ms/step - loss: 0.2397 - accuracy: 0.8977 - val_loss: 0.7703 - val_accuracy: 0.7247\n",
      "Epoch 20/30\n",
      "16000/16000 [==============================] - 15s 932us/step - loss: 0.2390 - accuracy: 0.9014 - val_loss: 0.7794 - val_accuracy: 0.7255\n",
      "Epoch 21/30\n",
      "16000/16000 [==============================] - 15s 956us/step - loss: 0.2363 - accuracy: 0.9004 - val_loss: 0.8010 - val_accuracy: 0.7220\n",
      "Epoch 22/30\n",
      "16000/16000 [==============================] - 16s 990us/step - loss: 0.2339 - accuracy: 0.9004 - val_loss: 0.7940 - val_accuracy: 0.7203\n",
      "Epoch 23/30\n",
      "16000/16000 [==============================] - 16s 971us/step - loss: 0.2289 - accuracy: 0.9029 - val_loss: 0.7963 - val_accuracy: 0.7278\n",
      "Epoch 24/30\n",
      "16000/16000 [==============================] - 15s 957us/step - loss: 0.2215 - accuracy: 0.9104 - val_loss: 0.8265 - val_accuracy: 0.7200\n",
      "Epoch 25/30\n",
      "16000/16000 [==============================] - 15s 954us/step - loss: 0.2224 - accuracy: 0.9080 - val_loss: 0.8355 - val_accuracy: 0.7185\n",
      "Epoch 26/30\n",
      "16000/16000 [==============================] - 15s 935us/step - loss: 0.2218 - accuracy: 0.9094 - val_loss: 0.8443 - val_accuracy: 0.7145\n",
      "Epoch 27/30\n",
      "16000/16000 [==============================] - 15s 935us/step - loss: 0.2175 - accuracy: 0.9093 - val_loss: 0.8263 - val_accuracy: 0.7265\n",
      "Epoch 28/30\n",
      "16000/16000 [==============================] - 15s 943us/step - loss: 0.2146 - accuracy: 0.9117 - val_loss: 0.8607 - val_accuracy: 0.7188\n",
      "Epoch 29/30\n",
      "16000/16000 [==============================] - 15s 946us/step - loss: 0.2133 - accuracy: 0.9117 - val_loss: 0.8879 - val_accuracy: 0.7228\n",
      "Epoch 30/30\n",
      "16000/16000 [==============================] - 15s 937us/step - loss: 0.2099 - accuracy: 0.9103 - val_loss: 0.8844 - val_accuracy: 0.7193\n"
     ]
    },
    {
     "data": {
      "text/plain": [
       "<keras.callbacks.callbacks.History at 0x2765bc5cf48>"
      ]
     },
     "execution_count": 17,
     "metadata": {},
     "output_type": "execute_result"
    }
   ],
   "source": [
    "model.fit(x_train,y_train,epochs=30,validation_split=0.2)"
   ]
  },
  {
   "cell_type": "code",
   "execution_count": 10,
   "metadata": {},
   "outputs": [
    {
     "name": "stdout",
     "output_type": "stream",
     "text": [
      "4946/4946 [==============================] - 2s 311us/step\n"
     ]
    },
    {
     "data": {
      "text/plain": [
       "[0.5946185387463113, 0.7501010894775391]"
      ]
     },
     "execution_count": 10,
     "metadata": {},
     "output_type": "execute_result"
    }
   ],
   "source": [
    "model.evaluate(x_test,y_test)"
   ]
  },
  {
   "cell_type": "code",
   "execution_count": 13,
   "metadata": {},
   "outputs": [
    {
     "data": {
      "text/plain": [
       "0"
      ]
     },
     "execution_count": 13,
     "metadata": {},
     "output_type": "execute_result"
    }
   ],
   "source": [
    "import numpy as np\n",
    "\n",
    "i=234\n",
    "# convert 3d to 4d\n",
    "image=np.expand_dims(x_test[i],axis=0)\n",
    "p=model.predict(image)\n",
    "np.argmax(p[0])"
   ]
  },
  {
   "cell_type": "code",
   "execution_count": 14,
   "metadata": {},
   "outputs": [
    {
     "data": {
      "text/plain": [
       "0"
      ]
     },
     "execution_count": 14,
     "metadata": {},
     "output_type": "execute_result"
    }
   ],
   "source": [
    "y[i]"
   ]
  },
  {
   "cell_type": "code",
   "execution_count": 16,
   "metadata": {},
   "outputs": [
    {
     "name": "stdout",
     "output_type": "stream",
     "text": [
      "Right :  3710, Wrong :  1236\n",
      "total 4946 \n"
     ]
    }
   ],
   "source": [
    "real=0\n",
    "predict=0\n",
    "cor=0\n",
    "wrong=0\n",
    "i=0\n",
    "yy=y[20000:]\n",
    "for d in x_test:\n",
    "  image=np.expand_dims(d,axis=0)\n",
    "  p=model.predict(image)\n",
    "  predict=np.argmax(p[0])\n",
    "  real=yy[i]\n",
    "  i+=1\n",
    "  if (predict==real):\n",
    "    cor+=1\n",
    "  else:\n",
    "    wrong+=1\n",
    "  \n",
    "print(\"Right : % 2d, Wrong : % 2d\" %(cor, wrong))  \n",
    "print(\"total %2d \"%(i))"
   ]
  },
  {
   "cell_type": "code",
   "execution_count": null,
   "metadata": {},
   "outputs": [],
   "source": []
  }
 ],
 "metadata": {
  "kernelspec": {
   "display_name": "Python 3",
   "language": "python",
   "name": "python3"
  },
  "language_info": {
   "codemirror_mode": {
    "name": "ipython",
    "version": 3
   },
   "file_extension": ".py",
   "mimetype": "text/x-python",
   "name": "python",
   "nbconvert_exporter": "python",
   "pygments_lexer": "ipython3",
   "version": "3.7.7"
  }
 },
 "nbformat": 4,
 "nbformat_minor": 4
}
