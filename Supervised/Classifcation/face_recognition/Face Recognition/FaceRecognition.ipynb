{
 "cells": [
  {
   "cell_type": "markdown",
   "metadata": {},
   "source": [
    "# Requirements \n"
   ]
  },
  {
   "cell_type": "code",
   "execution_count": null,
   "metadata": {},
   "outputs": [],
   "source": [
    "# before run this code, have to installed \n",
    "# Visual Studio C/C++\n",
    "# cmake\n",
    "# dlib\n",
    "# face_recognition\n",
    "# numpy\n",
    "# opencv-python\n",
    "\n",
    "# https://github.com/ageitgey/face_recognition"
   ]
  },
  {
   "cell_type": "code",
   "execution_count": 275,
   "metadata": {},
   "outputs": [],
   "source": [
    "import face_recognition as fr\n",
    "import os\n",
    "import cv2\n",
    "import numpy as np\n",
    "from time import sleep\n",
    "import matplotlib.pyplot as plt\n",
    "from PIL import Image"
   ]
  },
  {
   "cell_type": "code",
   "execution_count": 299,
   "metadata": {},
   "outputs": [],
   "source": [
    "def extractFace(src,dest):    \n",
    "    image=fr.load_image_file(src)\n",
    "    locations=fr.face_locations(image)\n",
    "\n",
    "    for face_location in locations:\n",
    "        top,right,bottom,left=face_location\n",
    "        face=image[top:bottom,left:right]\n",
    "        pil_image=Image.fromarray(face)\n",
    "    #     image.show()\n",
    "        pil_image.save(f\"./{dest}/{top}.jpg\")\n",
    "\n",
    "src='Known/Jarif/c.jpg'\n",
    "dest='Known/Jarif/'\n",
    "\n",
    "extractFace(src,dest)"
   ]
  },
  {
   "cell_type": "code",
   "execution_count": 300,
   "metadata": {},
   "outputs": [],
   "source": [
    "\n",
    "KNOWN_FACES_DIR = 'Known'\n",
    "UNKNOWN_FACES_DIR = 'Unknown'\n",
    "\n",
    "\n",
    "def getData():\n",
    "    \n",
    "    known_faces = []\n",
    "    known_names = []\n",
    "\n",
    "    # We oranize known faces as subfolders of KNOWN_FACES_DIR\n",
    "    # Each subfolder's name becomes our label (name)\n",
    "    for name in os.listdir(KNOWN_FACES_DIR):\n",
    "\n",
    "        # Next we load every file of faces of known person\n",
    "        for filename in os.listdir(f'{KNOWN_FACES_DIR}/{name}'):\n",
    "            \n",
    "            if filename.endswith(\".jpg\") or filename.endswith(\".png\"):\n",
    "\n",
    "                # Load an image\n",
    "                image = fr.load_image_file(f'{KNOWN_FACES_DIR}/{name}/{filename}')\n",
    "\n",
    "                # Get 128-dimension face encoding\n",
    "                # Always returns a list of found faces, for this purpose we take first face only (assuming one face per image as you can't be twice on one image)\n",
    "                face_bouding_box=fr.face_encodings(image)\n",
    "                if len(face_bouding_box)>0:                    \n",
    "                    encoding = face_bouding_box[0]\n",
    "                    # Append encodings and name\n",
    "                    known_faces.append(encoding)\n",
    "                    known_names.append(name)\n",
    "                    print(\"File Name \",name,\" : \",filename)\n",
    "                else:\n",
    "                    print(\"No face detected : \",filename)\n",
    "            \n",
    "    return known_faces,known_names\n"
   ]
  },
  {
   "cell_type": "code",
   "execution_count": 301,
   "metadata": {},
   "outputs": [
    {
     "name": "stdout",
     "output_type": "stream",
     "text": [
      "File Name  Ahanaf  :  116.jpg\n",
      "File Name  Anayet  :  70.jpg\n",
      "File Name  Arif  :  102.jpg\n",
      "File Name  Jarif  :  110.jpg\n",
      "No face detected :  116.jpg\n",
      "File Name  Jarif  :  139.jpg\n",
      "File Name  Jarif  :  76.jpg\n",
      "File Name  Jewel  :  1.jpg\n",
      "File Name  Jewel  :  2.jpg\n",
      "File Name  Mamta  :  1.jpg\n",
      "File Name  Saran  :  66.jpg\n"
     ]
    }
   ],
   "source": [
    "faces_encoded,known_face_names=getData()\n",
    "np.savez_compressed('known_faces.npz',faces_encoded,known_face_names)"
   ]
  },
  {
   "cell_type": "code",
   "execution_count": 302,
   "metadata": {},
   "outputs": [],
   "source": [
    "dataset=np.load('known_faces.npz')\n",
    "faces_encoded,known_face_names=dataset['arr_0'],dataset['arr_1']\n"
   ]
  },
  {
   "cell_type": "code",
   "execution_count": 323,
   "metadata": {},
   "outputs": [],
   "source": [
    "TOLERANCE = 0.6\n",
    "FRAME_THICKNESS = 3\n",
    "FONT_THICKNESS = 2\n",
    "\n",
    "def classify_face(im):\n",
    "\n",
    "    img = cv2.imread(im, 1)\n",
    "    #img = cv2.resize(img, (0, 0), fx=0.5, fy=0.5)\n",
    "    #img = img[:,:,::-1]\n",
    " \n",
    "    face_locations = fr.face_locations(img) # model='cnn', it will took long time to detect\n",
    "    unknown_face_encodings = fr.face_encodings(img, face_locations)\n",
    "\n",
    "    face_names = []\n",
    "    for face_encoding in unknown_face_encodings:\n",
    "        # See if the face is a match for the known face(s)\n",
    "        matches = fr.compare_faces(faces_encoded, face_encoding,TOLERANCE) \n",
    "        name = \"Unknown\"\n",
    "\n",
    "        # use the known face with the smallest distance to the new face\n",
    "        face_distances = fr.face_distance(faces_encoded, face_encoding)        \n",
    "        best_match_index = np.argmin(face_distances)\n",
    "        \n",
    "        if matches[best_match_index]:\n",
    "            name = known_face_names[best_match_index]\n",
    "            \n",
    "\n",
    "        face_names.append(name)\n",
    "\n",
    "        for (top, right, bottom, left), name in zip(face_locations, face_names):\n",
    "            # Draw a box around the face\n",
    "            cv2.rectangle(img, (left, top), (right, bottom), (0, 0, 0), 2)\n",
    "\n",
    "            # Draw a label with a name below the face\n",
    "            cv2.rectangle(img, (left, bottom+12 ), (right, bottom), (0, 0, 0), cv2.FILLED)\n",
    "            font = cv2.FONT_HERSHEY_DUPLEX\n",
    "            cv2.putText(img, name, (left, bottom+10), font, 0.5, (255, 255, 255), 1)\n",
    "\n",
    "\n",
    "            \n",
    "    image=Image.fromarray(img)\n",
    "    image.show()  \n",
    "    return face_names \n",
    "\n",
    "\n",
    "\n",
    "\n",
    "\n",
    "\n",
    "\n"
   ]
  },
  {
   "cell_type": "code",
   "execution_count": 324,
   "metadata": {},
   "outputs": [
    {
     "name": "stdout",
     "output_type": "stream",
     "text": [
      "['Jarif']\n"
     ]
    }
   ],
   "source": [
    "print(classify_face(\"Unknown/1.jpg\"))"
   ]
  },
  {
   "cell_type": "code",
   "execution_count": 274,
   "metadata": {},
   "outputs": [],
   "source": []
  },
  {
   "cell_type": "code",
   "execution_count": null,
   "metadata": {},
   "outputs": [],
   "source": []
  }
 ],
 "metadata": {
  "kernelspec": {
   "display_name": "Python 3",
   "language": "python",
   "name": "python3"
  },
  "language_info": {
   "codemirror_mode": {
    "name": "ipython",
    "version": 3
   },
   "file_extension": ".py",
   "mimetype": "text/x-python",
   "name": "python",
   "nbconvert_exporter": "python",
   "pygments_lexer": "ipython3",
   "version": "3.7.7"
  }
 },
 "nbformat": 4,
 "nbformat_minor": 4
}
