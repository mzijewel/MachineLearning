{
 "cells": [
  {
   "cell_type": "code",
   "execution_count": 1,
   "metadata": {},
   "outputs": [],
   "source": [
    "import tensorflow as tf"
   ]
  },
  {
   "cell_type": "code",
   "execution_count": 2,
   "metadata": {},
   "outputs": [
    {
     "name": "stdout",
     "output_type": "stream",
     "text": [
      "Train on 6 samples\n",
      "Epoch 1/50\n",
      "6/6 [==============================] - 2s 395ms/sample - loss: 1.2027\n",
      "Epoch 2/50\n",
      "6/6 [==============================] - 0s 35ms/sample - loss: 1.0774\n",
      "Epoch 3/50\n",
      "6/6 [==============================] - 0s 3ms/sample - loss: 0.9762\n",
      "Epoch 4/50\n",
      "6/6 [==============================] - 0s 3ms/sample - loss: 0.8940\n",
      "Epoch 5/50\n",
      "6/6 [==============================] - 0s 3ms/sample - loss: 0.8267\n",
      "Epoch 6/50\n",
      "6/6 [==============================] - 0s 3ms/sample - loss: 0.7712\n",
      "Epoch 7/50\n",
      "6/6 [==============================] - 0s 3ms/sample - loss: 0.7251\n",
      "Epoch 8/50\n",
      "6/6 [==============================] - 0s 3ms/sample - loss: 0.6863\n",
      "Epoch 9/50\n",
      "6/6 [==============================] - 0s 3ms/sample - loss: 0.6535\n",
      "Epoch 10/50\n",
      "6/6 [==============================] - 0s 3ms/sample - loss: 0.6253\n",
      "Epoch 11/50\n",
      "6/6 [==============================] - 0s 0s/sample - loss: 0.6009\n",
      "Epoch 12/50\n",
      "6/6 [==============================] - 0s 3ms/sample - loss: 0.5794\n",
      "Epoch 13/50\n",
      "6/6 [==============================] - 0s 3ms/sample - loss: 0.5603\n",
      "Epoch 14/50\n",
      "6/6 [==============================] - 0s 0s/sample - loss: 0.5431\n",
      "Epoch 15/50\n",
      "6/6 [==============================] - 0s 1ms/sample - loss: 0.5275\n",
      "Epoch 16/50\n",
      "6/6 [==============================] - 0s 0s/sample - loss: 0.5132\n",
      "Epoch 17/50\n",
      "6/6 [==============================] - 0s 3ms/sample - loss: 0.4999\n",
      "Epoch 18/50\n",
      "6/6 [==============================] - 0s 3ms/sample - loss: 0.4875\n",
      "Epoch 19/50\n",
      "6/6 [==============================] - 0s 3ms/sample - loss: 0.4758\n",
      "Epoch 20/50\n",
      "6/6 [==============================] - 0s 2ms/sample - loss: 0.4646\n",
      "Epoch 21/50\n",
      "6/6 [==============================] - 0s 2ms/sample - loss: 0.4540\n",
      "Epoch 22/50\n",
      "6/6 [==============================] - 0s 1ms/sample - loss: 0.4439\n",
      "Epoch 23/50\n",
      "6/6 [==============================] - 0s 2ms/sample - loss: 0.4341\n",
      "Epoch 24/50\n",
      "6/6 [==============================] - 0s 2ms/sample - loss: 0.4247\n",
      "Epoch 25/50\n",
      "6/6 [==============================] - 0s 2ms/sample - loss: 0.4156\n",
      "Epoch 26/50\n",
      "6/6 [==============================] - 0s 2ms/sample - loss: 0.4067\n",
      "Epoch 27/50\n",
      "6/6 [==============================] - 0s 2ms/sample - loss: 0.3981\n",
      "Epoch 28/50\n",
      "6/6 [==============================] - 0s 1ms/sample - loss: 0.3897\n",
      "Epoch 29/50\n",
      "6/6 [==============================] - 0s 2ms/sample - loss: 0.3816\n",
      "Epoch 30/50\n",
      "6/6 [==============================] - 0s 2ms/sample - loss: 0.3736\n",
      "Epoch 31/50\n",
      "6/6 [==============================] - 0s 2ms/sample - loss: 0.3658\n",
      "Epoch 32/50\n",
      "6/6 [==============================] - 0s 2ms/sample - loss: 0.3582\n",
      "Epoch 33/50\n",
      "6/6 [==============================] - 0s 2ms/sample - loss: 0.3508\n",
      "Epoch 34/50\n",
      "6/6 [==============================] - 0s 2ms/sample - loss: 0.3436\n",
      "Epoch 35/50\n",
      "6/6 [==============================] - 0s 2ms/sample - loss: 0.3365\n",
      "Epoch 36/50\n",
      "6/6 [==============================] - 0s 1ms/sample - loss: 0.3295\n",
      "Epoch 37/50\n",
      "6/6 [==============================] - 0s 2ms/sample - loss: 0.3228\n",
      "Epoch 38/50\n",
      "6/6 [==============================] - 0s 2ms/sample - loss: 0.3161\n",
      "Epoch 39/50\n",
      "6/6 [==============================] - 0s 589us/sample - loss: 0.3096\n",
      "Epoch 40/50\n",
      "6/6 [==============================] - 0s 3ms/sample - loss: 0.3032\n",
      "Epoch 41/50\n",
      "6/6 [==============================] - 0s 2ms/sample - loss: 0.2970\n",
      "Epoch 42/50\n",
      "6/6 [==============================] - 0s 2ms/sample - loss: 0.2909\n",
      "Epoch 43/50\n",
      "6/6 [==============================] - 0s 2ms/sample - loss: 0.2849\n",
      "Epoch 44/50\n",
      "6/6 [==============================] - 0s 2ms/sample - loss: 0.2790\n",
      "Epoch 45/50\n",
      "6/6 [==============================] - 0s 2ms/sample - loss: 0.2733\n",
      "Epoch 46/50\n",
      "6/6 [==============================] - 0s 2ms/sample - loss: 0.2677\n",
      "Epoch 47/50\n",
      "6/6 [==============================] - 0s 2ms/sample - loss: 0.2622\n",
      "Epoch 48/50\n",
      "6/6 [==============================] - 0s 2ms/sample - loss: 0.2568\n",
      "Epoch 49/50\n",
      "6/6 [==============================] - 0s 2ms/sample - loss: 0.2515\n",
      "Epoch 50/50\n",
      "6/6 [==============================] - 0s 2ms/sample - loss: 0.2464\n"
     ]
    }
   ],
   "source": [
    "# Create a simple Keras model.\n",
    "x = [-1, 0, 1, 2, 3, 4]\n",
    "y = [-3, -1, 1, 3, 5, 7]\n",
    "\n",
    "model = tf.keras.models.Sequential(\n",
    "    [tf.keras.layers.Dense(units=1, input_shape=[1])])\n",
    "model.compile(optimizer='sgd', loss='mean_squared_error')\n",
    "model.fit(x, y, epochs=50)\n"
   ]
  },
  {
   "cell_type": "code",
   "execution_count": 12,
   "metadata": {},
   "outputs": [
    {
     "data": {
      "text/plain": [
       "array([[250.16614]], dtype=float32)"
      ]
     },
     "execution_count": 12,
     "metadata": {},
     "output_type": "execute_result"
    }
   ],
   "source": [
    "model.predict([140])"
   ]
  },
  {
   "cell_type": "code",
   "execution_count": 10,
   "metadata": {},
   "outputs": [],
   "source": [
    "model.save('linear.h5')"
   ]
  },
  {
   "cell_type": "code",
   "execution_count": 4,
   "metadata": {},
   "outputs": [],
   "source": [
    "# Convert the model.\n",
    "converter = tf.lite.TFLiteConverter.from_keras_model(model)\n",
    "tflite_model = converter.convert()\n",
    "open('linear.tflite','wb').write(tflite_model)"
   ]
  },
  {
   "cell_type": "code",
   "execution_count": null,
   "metadata": {},
   "outputs": [],
   "source": []
  }
 ],
 "metadata": {
  "kernelspec": {
   "display_name": "Python 3",
   "language": "python",
   "name": "python3"
  },
  "language_info": {
   "codemirror_mode": {
    "name": "ipython",
    "version": 3
   },
   "file_extension": ".py",
   "mimetype": "text/x-python",
   "name": "python",
   "nbconvert_exporter": "python",
   "pygments_lexer": "ipython3",
   "version": "3.7.7"
  }
 },
 "nbformat": 4,
 "nbformat_minor": 4
}
