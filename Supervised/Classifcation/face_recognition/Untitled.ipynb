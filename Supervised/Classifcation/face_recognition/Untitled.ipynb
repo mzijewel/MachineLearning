{
 "cells": [
  {
   "cell_type": "code",
   "execution_count": 1,
   "metadata": {},
   "outputs": [],
   "source": [
    "# https://pythonprogramming.net/facial-recognition-python/\n",
    "\n",
    "import face_recognition\n",
    "import os\n",
    "import cv2\n"
   ]
  },
  {
   "cell_type": "code",
   "execution_count": 1,
   "metadata": {},
   "outputs": [
    {
     "name": "stdout",
     "output_type": "stream",
     "text": [
      "^C\n"
     ]
    }
   ],
   "source": []
  },
  {
   "cell_type": "code",
   "execution_count": 2,
   "metadata": {},
   "outputs": [],
   "source": [
    "KNOWN_FACES_DIR = 'Known'\n",
    "UNKNOWN_FACES_DIR = 'Unknown'\n",
    "TOLERANCE = 0.6\n",
    "FRAME_THICKNESS = 3\n",
    "FONT_THICKNESS = 2\n",
    "MODEL = 'cnn'  # 'hog' or 'cnn' - CUDA accelerated (if available) deep-learning pretrained model"
   ]
  },
  {
   "cell_type": "code",
   "execution_count": 3,
   "metadata": {},
   "outputs": [
    {
     "name": "stdout",
     "output_type": "stream",
     "text": [
      "Loading known faces...\n",
      "Processing unknown faces...\n",
      "Filename 1.jpg, found 1 face(s)\n",
      "Filename 10.jpg, found 1 face(s)\n",
      "Filename 2.jpg, found 1 face(s)\n",
      "Filename 3.jpg, found 1 face(s)\n",
      " - Ahanaf from [False, True, False, False]\n",
      "Filename 4.jpg, found 11 face(s)\n",
      " - Ahanaf from [True, True, True, False]\n",
      " - Ahanaf from [True, True, True, False]\n",
      " - Ahanaf from [True, True, True, False]\n",
      " - Ahanaf from [True, True, True, False]\n",
      " - Ahanaf from [False, True, True, False]\n",
      " - Ahanaf from [True, True, True, False]\n",
      " - Ahanaf from [False, True, False, False]\n",
      " - Ahanaf from [True, True, True, False]\n",
      " - Ahanaf from [True, True, True, False]\n",
      " - Ahanaf from [True, True, True, False]\n",
      " - Ahanaf from [True, True, True, False]\n",
      "Filename 5.jpg"
     ]
    },
    {
     "name": "stderr",
     "output_type": "stream",
     "text": [
      "ERROR:root:Internal Python error in the inspect module.\n",
      "Below is the traceback from this internal error.\n",
      "\n"
     ]
    },
    {
     "name": "stdout",
     "output_type": "stream",
     "text": [
      "Traceback (most recent call last):\n",
      "  File \"C:\\Users\\TechieNerd\\anaconda3\\envs\\tensorflow\\lib\\site-packages\\IPython\\core\\interactiveshell.py\", line 3331, in run_code\n",
      "    exec(code_obj, self.user_global_ns, self.user_ns)\n",
      "  File \"<ipython-input-3-47b00a82b01f>\", line 41, in <module>\n",
      "    locations = face_recognition.face_locations(image, model=MODEL)\n",
      "  File \"C:\\Users\\TechieNerd\\anaconda3\\envs\\tensorflow\\lib\\site-packages\\face_recognition\\api.py\", line 119, in face_locations\n",
      "    return [_trim_css_to_bounds(_rect_to_css(face.rect), img.shape) for face in _raw_face_locations(img, number_of_times_to_upsample, \"cnn\")]\n",
      "KeyboardInterrupt\n",
      "\n",
      "During handling of the above exception, another exception occurred:\n",
      "\n",
      "Traceback (most recent call last):\n",
      "  File \"C:\\Users\\TechieNerd\\anaconda3\\envs\\tensorflow\\lib\\site-packages\\IPython\\core\\interactiveshell.py\", line 2044, in showtraceback\n",
      "    stb = value._render_traceback_()\n",
      "AttributeError: 'KeyboardInterrupt' object has no attribute '_render_traceback_'\n",
      "\n",
      "During handling of the above exception, another exception occurred:\n",
      "\n",
      "Traceback (most recent call last):\n",
      "  File \"C:\\Users\\TechieNerd\\anaconda3\\envs\\tensorflow\\lib\\site-packages\\IPython\\core\\ultratb.py\", line 1148, in get_records\n",
      "    return _fixed_getinnerframes(etb, number_of_lines_of_context, tb_offset)\n",
      "  File \"C:\\Users\\TechieNerd\\anaconda3\\envs\\tensorflow\\lib\\site-packages\\IPython\\core\\ultratb.py\", line 316, in wrapped\n",
      "    return f(*args, **kwargs)\n",
      "  File \"C:\\Users\\TechieNerd\\anaconda3\\envs\\tensorflow\\lib\\site-packages\\IPython\\core\\ultratb.py\", line 350, in _fixed_getinnerframes\n",
      "    records = fix_frame_records_filenames(inspect.getinnerframes(etb, context))\n",
      "  File \"C:\\Users\\TechieNerd\\anaconda3\\envs\\tensorflow\\lib\\inspect.py\", line 1502, in getinnerframes\n",
      "    frameinfo = (tb.tb_frame,) + getframeinfo(tb, context)\n",
      "  File \"C:\\Users\\TechieNerd\\anaconda3\\envs\\tensorflow\\lib\\inspect.py\", line 1460, in getframeinfo\n",
      "    filename = getsourcefile(frame) or getfile(frame)\n",
      "  File \"C:\\Users\\TechieNerd\\anaconda3\\envs\\tensorflow\\lib\\inspect.py\", line 693, in getsourcefile\n",
      "    if os.path.exists(filename):\n",
      "  File \"C:\\Users\\TechieNerd\\anaconda3\\envs\\tensorflow\\lib\\genericpath.py\", line 19, in exists\n",
      "    os.stat(path)\n",
      "KeyboardInterrupt\n"
     ]
    },
    {
     "ename": "KeyboardInterrupt",
     "evalue": "",
     "output_type": "error",
     "traceback": [
      "\u001b[1;31m---------------------------------------------------------------------------\u001b[0m"
     ]
    }
   ],
   "source": [
    "# Returns (R, G, B) from name\n",
    "def name_to_color(name):\n",
    "    # Take 3 first letters, tolower()\n",
    "    # lowercased character ord() value rage is 97 to 122, substract 97, multiply by 8\n",
    "    color = [(ord(c.lower())-97)*8 for c in name[:3]]\n",
    "    return color\n",
    "\n",
    "\n",
    "print('Loading known faces...')\n",
    "known_faces = []\n",
    "known_names = []\n",
    "\n",
    "# We oranize known faces as subfolders of KNOWN_FACES_DIR\n",
    "# Each subfolder's name becomes our label (name)\n",
    "for name in os.listdir(KNOWN_FACES_DIR):\n",
    "\n",
    "    # Next we load every file of faces of known person\n",
    "    for filename in os.listdir(f'{KNOWN_FACES_DIR}/{name}'):\n",
    "\n",
    "        # Load an image\n",
    "        image = face_recognition.load_image_file(f'{KNOWN_FACES_DIR}/{name}/{filename}')\n",
    "\n",
    "        # Get 128-dimension face encoding\n",
    "        # Always returns a list of found faces, for this purpose we take first face only (assuming one face per image as you can't be twice on one image)\n",
    "        encoding = face_recognition.face_encodings(image)[0]\n",
    "\n",
    "        # Append encodings and name\n",
    "        known_faces.append(encoding)\n",
    "        known_names.append(name)\n",
    "\n",
    "\n",
    "print('Processing unknown faces...')\n",
    "# Now let's loop over a folder of faces we want to label\n",
    "for filename in os.listdir(UNKNOWN_FACES_DIR):\n",
    "\n",
    "    # Load image\n",
    "    print(f'Filename {filename}', end='')\n",
    "    image = face_recognition.load_image_file(f'{UNKNOWN_FACES_DIR}/{filename}')\n",
    "\n",
    "    # This time we first grab face locations - we'll need them to draw boxes\n",
    "    locations = face_recognition.face_locations(image, model=MODEL)\n",
    "\n",
    "    # Now since we know loctions, we can pass them to face_encodings as second argument\n",
    "    # Without that it will search for faces once again slowing down whole process\n",
    "    encodings = face_recognition.face_encodings(image, locations)\n",
    "\n",
    "    # We passed our image through face_locations and face_encodings, so we can modify it\n",
    "    # First we need to convert it from RGB to BGR as we are going to work with cv2\n",
    "    image = cv2.cvtColor(image, cv2.COLOR_RGB2BGR)\n",
    "\n",
    "    # But this time we assume that there might be more faces in an image - we can find faces of dirrerent people\n",
    "    print(f', found {len(encodings)} face(s)')\n",
    "    for face_encoding, face_location in zip(encodings, locations):\n",
    "\n",
    "        # We use compare_faces (but might use face_distance as well)\n",
    "        # Returns array of True/False values in order of passed known_faces\n",
    "        results = face_recognition.compare_faces(known_faces, face_encoding, TOLERANCE)\n",
    "\n",
    "        # Since order is being preserved, we check if any face was found then grab index\n",
    "        # then label (name) of first matching known face withing a tolerance\n",
    "        match = None\n",
    "        if True in results:  # If at least one is true, get a name of first of found labels\n",
    "            match = known_names[results.index(True)]\n",
    "            print(f' - {match} from {results}')\n",
    "\n",
    "            # Each location contains positions in order: top, right, bottom, left\n",
    "            top_left = (face_location[3], face_location[0])\n",
    "            bottom_right = (face_location[1], face_location[2])\n",
    "\n",
    "            # Get color by name using our fancy function\n",
    "            color = name_to_color(match)\n",
    "\n",
    "            # Paint frame\n",
    "            cv2.rectangle(image, top_left, bottom_right, color, FRAME_THICKNESS)\n",
    "\n",
    "            # Now we need smaller, filled grame below for a name\n",
    "            # This time we use bottom in both corners - to start from bottom and move 50 pixels down\n",
    "            top_left = (face_location[3], face_location[2])\n",
    "            bottom_right = (face_location[1], face_location[2] + 22)\n",
    "\n",
    "            # Paint frame\n",
    "            cv2.rectangle(image, top_left, bottom_right, color, cv2.FILLED)\n",
    "\n",
    "            # Wite a name\n",
    "            cv2.putText(image, match, (face_location[3] + 10, face_location[2] + 15), cv2.FONT_HERSHEY_SIMPLEX, 0.5, (200, 200, 200), FONT_THICKNESS)\n",
    "\n",
    "    # Show image\n",
    "    cv2.imshow(filename, image)\n",
    "    cv2.waitKey(0)\n",
    "    cv2.destroyWindow(filename)"
   ]
  },
  {
   "cell_type": "code",
   "execution_count": null,
   "metadata": {},
   "outputs": [],
   "source": []
  }
 ],
 "metadata": {
  "kernelspec": {
   "display_name": "Python 3",
   "language": "python",
   "name": "python3"
  },
  "language_info": {
   "codemirror_mode": {
    "name": "ipython",
    "version": 3
   },
   "file_extension": ".py",
   "mimetype": "text/x-python",
   "name": "python",
   "nbconvert_exporter": "python",
   "pygments_lexer": "ipython3",
   "version": "3.7.7"
  }
 },
 "nbformat": 4,
 "nbformat_minor": 4
}
