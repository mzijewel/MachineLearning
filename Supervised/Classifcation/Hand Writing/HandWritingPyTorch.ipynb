{
  "cells": [
    {
      "cell_type": "markdown",
      "metadata": {
        "colab_type": "text",
        "id": "view-in-github"
      },
      "source": [
        "<a href=\"https://colab.research.google.com/github/mzijewel/TensorflowExercise/blob/master/Supervised/Classifcation/Hand%20Writing/HandWritingPyTorch.ipynb\" target=\"_parent\"><img src=\"https://colab.research.google.com/assets/colab-badge.svg\" alt=\"Open In Colab\"/></a>"
      ]
    },
    {
      "cell_type": "code",
      "execution_count": 2,
      "metadata": {
        "id": "nZOAKJ79RpFG"
      },
      "outputs": [],
      "source": [
        "# import dependecies\n",
        "import torch\n",
        "from torch import nn,save,load\n",
        "from torch.optim import Adam\n",
        "from torch.utils.data import DataLoader\n",
        "\n",
        "from torchvision import datasets\n",
        "from torchvision.transforms import ToTensor\n",
        "\n",
        "from PIL import Image"
      ]
    },
    {
      "cell_type": "code",
      "execution_count": 4,
      "metadata": {
        "id": "SMfkJwHCRvZe"
      },
      "outputs": [],
      "source": [
        "# get data\n",
        "train=datasets.MNIST(root=\"data\",download=True,train=True,transform=ToTensor())\n",
        "dataset=DataLoader(train,32)\n",
        "# 1,28,28 - classes (0-9)\n"
      ]
    },
    {
      "cell_type": "code",
      "execution_count": 5,
      "metadata": {
        "id": "LKjeHa1ARyEh"
      },
      "outputs": [],
      "source": [
        "class Model(nn.Module):\n",
        "    def __init__(self):\n",
        "        super().__init__()\n",
        "\n",
        "        self.model=nn.Sequential(\n",
        "            nn.Conv2d(1,32,(3,3)),\n",
        "            nn.ReLU(),\n",
        "            nn.Conv2d(32,64,(3,3)),\n",
        "            nn.ReLU(),\n",
        "            nn.Conv2d(64,64,(3,3)),\n",
        "            nn.ReLU(),\n",
        "            nn.Flatten(),\n",
        "            nn.Linear(64*(28-6)*(28-6),10) # used 3 conv2d, so reduced 3x2 = 6\n",
        "\n",
        "        )\n",
        "    def forward(self,x):\n",
        "        return self.model(x)\n"
      ]
    },
    {
      "cell_type": "code",
      "execution_count": 8,
      "metadata": {
        "id": "TSPFqwCMR0l6"
      },
      "outputs": [],
      "source": [
        "# device='cuda' # cuda -> if gpu is available\n",
        "device=torch.device('cuda' if torch.cuda.is_available() else 'cpu')\n",
        "model=Model().to(device)\n",
        "opt=Adam(model.parameters(),lr=0.01)\n",
        "loss_fn=nn.CrossEntropyLoss()"
      ]
    },
    {
      "cell_type": "code",
      "execution_count": 9,
      "metadata": {
        "colab": {
          "base_uri": "https://localhost:8080/"
        },
        "id": "j9MARybdR2Zc",
        "outputId": "44791fd5-d978-4baf-aedc-f36269c66f0c"
      },
      "outputs": [
        {
          "name": "stdout",
          "output_type": "stream",
          "text": [
            "epchs: 0 - loss: 0.07405541092157364\n",
            "epchs: 1 - loss: 0.058793094009160995\n",
            "epchs: 2 - loss: 0.0039445627480745316\n",
            "epchs: 3 - loss: 0.022062506526708603\n",
            "epchs: 4 - loss: 0.0637168139219284\n"
          ]
        }
      ],
      "source": [
        "epochs=5\n",
        "\n",
        "for epoch in range(epochs):\n",
        "    for batch in dataset:\n",
        "        x,y=batch\n",
        "        x,y=x.to(device),y.to(device)\n",
        "        y_pred=model(x)\n",
        "        loss=loss_fn(y_pred,y)\n",
        "\n",
        "        opt.zero_grad()\n",
        "        loss.backward()\n",
        "        opt.step()\n",
        "\n",
        "    print(f\"epchs: {epoch} - loss: {loss.item()}\")"
      ]
    },
    {
      "cell_type": "code",
      "execution_count": 14,
      "metadata": {},
      "outputs": [],
      "source": [
        "# Evaluation function\n",
        "def evaluate_model(model, test_loader, loss_fn, device):\n",
        "   model.eval()  # Set the model to evaluation mode\n",
        "   total_correct = 0\n",
        "   total_samples = 0\n",
        "   total_loss = 0.0\n",
        "\n",
        "\n",
        "   with torch.no_grad():\n",
        "       for inputs, labels in test_loader:\n",
        "           inputs, labels = inputs.to(device), labels.to(device)\n",
        "\n",
        "\n",
        "           # Forward pass\n",
        "           outputs = model(inputs)\n",
        "           loss = loss_fn(outputs, labels)\n",
        "\n",
        "\n",
        "           # Accumulate loss\n",
        "           total_loss += loss.item()\n",
        "\n",
        "\n",
        "           # Calculate accuracy\n",
        "           _, predicted = torch.max(outputs, 1)\n",
        "           total_samples += labels.size(0)\n",
        "           total_correct += (predicted == labels).sum().item()\n",
        "\n",
        "\n",
        "   accuracy = total_correct / total_samples\n",
        "   average_loss = total_loss / len(test_loader)\n",
        "\n",
        "\n",
        "   print(f'Test Accuracy: {accuracy * 100:.2f}%')\n",
        "   print(f'Average Test Loss: {average_loss:.4f}')"
      ]
    },
    {
      "cell_type": "code",
      "execution_count": 15,
      "metadata": {},
      "outputs": [
        {
          "data": {
            "text/plain": [
              "<All keys matched successfully>"
            ]
          },
          "execution_count": 15,
          "metadata": {},
          "output_type": "execute_result"
        }
      ],
      "source": [
        "# Create a model with trained data\n",
        "model=Model()\n",
        "model.load_state_dict(load('model.pt',map_location=device))"
      ]
    },
    {
      "cell_type": "code",
      "execution_count": 16,
      "metadata": {},
      "outputs": [
        {
          "name": "stdout",
          "output_type": "stream",
          "text": [
            "Test Accuracy: 92.14%\n",
            "Average Test Loss: 0.3396\n"
          ]
        }
      ],
      "source": [
        "# test data\n",
        "test_data=datasets.MNIST(root=\"data\",download=False,train=False,transform=ToTensor())\n",
        "test_dataset=DataLoader(test_data,32)\n",
        "\n",
        "evaluate_model(model,test_dataset,loss_fn,device)"
      ]
    },
    {
      "cell_type": "code",
      "execution_count": null,
      "metadata": {},
      "outputs": [],
      "source": [
        "# save model\n",
        "save(model.load_state_dict(),'model.pt')"
      ]
    },
    {
      "cell_type": "code",
      "execution_count": 21,
      "metadata": {
        "id": "mLgBa79RT-P6"
      },
      "outputs": [],
      "source": [
        "# test with external image\n",
        "img=Image.open('images/3.png').convert(\"L\").resize((28,28))\n",
        "img_tensor=ToTensor()(img).unsqueeze(0).to(device)\n"
      ]
    },
    {
      "cell_type": "code",
      "execution_count": 22,
      "metadata": {
        "colab": {
          "base_uri": "https://localhost:8080/"
        },
        "id": "8wRUKqRaTvfr",
        "outputId": "2924be29-3d61-4bba-cfe7-2c57d6c5a06d"
      },
      "outputs": [
        {
          "data": {
            "text/plain": [
              "tensor(3)"
            ]
          },
          "execution_count": 22,
          "metadata": {},
          "output_type": "execute_result"
        }
      ],
      "source": [
        "p=model(img_tensor)\n",
        "q=torch.argmax(p)\n",
        "q"
      ]
    }
  ],
  "metadata": {
    "accelerator": "GPU",
    "colab": {
      "authorship_tag": "ABX9TyMsNwE8iRDpp5QuH2PIcUsO",
      "gpuType": "T4",
      "include_colab_link": true,
      "provenance": []
    },
    "kernelspec": {
      "display_name": "Python 3",
      "name": "python3"
    },
    "language_info": {
      "codemirror_mode": {
        "name": "ipython",
        "version": 3
      },
      "file_extension": ".py",
      "mimetype": "text/x-python",
      "name": "python",
      "nbconvert_exporter": "python",
      "pygments_lexer": "ipython3",
      "version": "3.11.1"
    }
  },
  "nbformat": 4,
  "nbformat_minor": 0
}
