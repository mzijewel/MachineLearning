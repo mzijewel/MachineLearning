{
 "cells": [
  {
   "cell_type": "code",
   "execution_count": 1,
   "metadata": {},
   "outputs": [],
   "source": [
    "import numpy as np\n",
    "import pylab as plt\n",
    "import networkx as nx\n"
   ]
  },
  {
   "cell_type": "code",
   "execution_count": 11,
   "metadata": {},
   "outputs": [],
   "source": [
    "# map cell to cell, add circular cell to goal point\n",
    "points_list = [(0,1), (1,5), (5,6), (5,4), (1,2), (2,3), (2,7)]\n",
    "\n",
    "goal = 7"
   ]
  },
  {
   "cell_type": "code",
   "execution_count": 12,
   "metadata": {},
   "outputs": [
    {
     "data": {
      "image/png": "[encoded data removed]",
      "text/plain": [
       "<Figure size 432x288 with 1 Axes>"
      ]
     },
     "metadata": {},
     "output_type": "display_data"
    }
   ],
   "source": [
    "# draw a grap to show the network connection\n",
    "G=nx.Graph()\n",
    "G.add_edges_from(points_list)\n",
    "pos = nx.spring_layout(G)\n",
    "nx.draw_networkx_nodes(G,pos)\n",
    "nx.draw_networkx_edges(G,pos)\n",
    "nx.draw_networkx_labels(G,pos)\n",
    "plt.show()"
   ]
  },
  {
   "cell_type": "code",
   "execution_count": 13,
   "metadata": {},
   "outputs": [],
   "source": [
    "# how many points in graph? x points\n",
    "MATRIX_SIZE = 8\n",
    "\n",
    "# create matrix x*y\n",
    "R = np.matrix(np.ones(shape=(MATRIX_SIZE, MATRIX_SIZE)))\n",
    "R *= -1"
   ]
  },
  {
   "cell_type": "code",
   "execution_count": 14,
   "metadata": {},
   "outputs": [
    {
     "name": "stdout",
     "output_type": "stream",
     "text": [
      "(0, 1)\n",
      "(1, 5)\n",
      "(5, 6)\n",
      "(5, 4)\n",
      "(1, 2)\n",
      "(2, 3)\n",
      "(2, 7)\n"
     ]
    },
    {
     "data": {
      "text/plain": [
       "matrix([[ -1.,   0.,  -1.,  -1.,  -1.,  -1.,  -1.,  -1.],\n",
       "        [  0.,  -1.,   0.,  -1.,  -1.,   0.,  -1.,  -1.],\n",
       "        [ -1.,   0.,  -1.,   0.,  -1.,  -1.,  -1., 100.],\n",
       "        [ -1.,  -1.,   0.,  -1.,  -1.,  -1.,  -1.,  -1.],\n",
       "        [ -1.,  -1.,  -1.,  -1.,  -1.,   0.,  -1.,  -1.],\n",
       "        [ -1.,   0.,  -1.,  -1.,   0.,  -1.,   0.,  -1.],\n",
       "        [ -1.,  -1.,  -1.,  -1.,  -1.,   0.,  -1.,  -1.],\n",
       "        [ -1.,  -1.,   0.,  -1.,  -1.,  -1.,  -1., 100.]])"
      ]
     },
     "execution_count": 14,
     "metadata": {},
     "output_type": "execute_result"
    }
   ],
   "source": [
    "# assign zeros to paths and 100 to goal-reaching point\n",
    "for point in points_list:\n",
    "    print(point)\n",
    "    if point[1] == goal:\n",
    "        R[point] = 100\n",
    "    else:\n",
    "        R[point] = 0\n",
    "\n",
    "    if point[0] == goal:\n",
    "        R[point[::-1]] = 100\n",
    "    else:\n",
    "        # reverse of point\n",
    "        R[point[::-1]]= 0\n",
    "\n",
    "# add goal point round trip\n",
    "R[goal,goal]= 100\n",
    "\n",
    "R"
   ]
  },
  {
   "cell_type": "code",
   "execution_count": 15,
   "metadata": {},
   "outputs": [],
   "source": [
    "Q = np.matrix(np.zeros([MATRIX_SIZE,MATRIX_SIZE]))\n",
    "\n",
    "# learning parameter\n",
    "gamma = 0.8\n",
    "\n",
    "initial_state = 1"
   ]
  },
  {
   "cell_type": "code",
   "execution_count": 16,
   "metadata": {},
   "outputs": [
    {
     "data": {
      "text/plain": [
       "0"
      ]
     },
     "execution_count": 16,
     "metadata": {},
     "output_type": "execute_result"
    }
   ],
   "source": [
    "def available_actions(state):\n",
    "    current_state_row = R[state,]\n",
    "    av_act = np.where(current_state_row >= 0)[1]\n",
    "    return av_act\n",
    "\n",
    "available_act = available_actions(initial_state)\n",
    "\n",
    "def sample_next_action(available_actions_range):\n",
    "    next_action = int(np.random.choice(available_act,1))\n",
    "    return next_action\n",
    "\n",
    "action = sample_next_action(available_act)\n",
    "\n",
    "def update(current_state, action, gamma):\n",
    "\n",
    "  max_index = np.where(Q[action,] == np.max(Q[action,]))[1]\n",
    "\n",
    "  if max_index.shape[0] > 1:\n",
    "      max_index = int(np.random.choice(max_index, size = 1))\n",
    "  else:\n",
    "      max_index = int(max_index)\n",
    "  max_value = Q[action, max_index]\n",
    "\n",
    "  Q[current_state, action] = R[current_state, action] + gamma * max_value\n",
    "#   print('max_value', R[current_state, action] + gamma * max_value)\n",
    "\n",
    "  if (np.max(Q) > 0):\n",
    "    return(np.sum(Q/np.max(Q)*100))\n",
    "  else:\n",
    "    return (0)\n",
    "\n",
    "update(initial_state, action, gamma)"
   ]
  },
  {
   "cell_type": "code",
   "execution_count": 17,
   "metadata": {},
   "outputs": [
    {
     "name": "stdout",
     "output_type": "stream",
     "text": [
      "Trained Q matrix:\n",
      "[[  0.          64.           0.           0.           0.\n",
      "    0.           0.           0.        ]\n",
      " [ 51.2          0.          80.           0.           0.\n",
      "   51.19868334   0.           0.        ]\n",
      " [  0.          64.           0.          63.99971455   0.\n",
      "    0.           0.         100.        ]\n",
      " [  0.           0.          80.           0.           0.\n",
      "    0.           0.           0.        ]\n",
      " [  0.           0.           0.           0.           0.\n",
      "   51.19868334   0.           0.        ]\n",
      " [  0.          63.99835418   0.           0.          40.95894667\n",
      "    0.          40.95894667   0.        ]\n",
      " [  0.           0.           0.           0.           0.\n",
      "   51.19868334   0.           0.        ]\n",
      " [  0.           0.          80.           0.           0.\n",
      "    0.           0.          99.99955398]]\n"
     ]
    }
   ],
   "source": [
    "# Training\n",
    "scores = []\n",
    "for i in range(700):\n",
    "    current_state = np.random.randint(0, int(Q.shape[0]))\n",
    "    available_act = available_actions(current_state)\n",
    "    action = sample_next_action(available_act)\n",
    "    score = update(current_state,action,gamma)\n",
    "    scores.append(score)\n",
    "    # print ('Score:', str(score))\n",
    "\n",
    "print(\"Trained Q matrix:\")\n",
    "print(Q/np.max(Q)*100)"
   ]
  },
  {
   "cell_type": "code",
   "execution_count": 22,
   "metadata": {},
   "outputs": [
    {
     "name": "stdout",
     "output_type": "stream",
     "text": [
      "Most efficient path:\n",
      "[4, 5, 1, 2, 7]\n"
     ]
    }
   ],
   "source": [
    "# Testing\n",
    "current_state = 4\n",
    "steps = [current_state]\n",
    "\n",
    "while current_state != 7:\n",
    "\n",
    "    next_step_index = np.where(Q[current_state,] == np.max(Q[current_state,]))[1]\n",
    "\n",
    "    if next_step_index.shape[0] > 1:\n",
    "        next_step_index =int(np.random.choice(next_step_index, size = 1))\n",
    "    else:\n",
    "        next_step_index = int(next_step_index)\n",
    "\n",
    "    steps.append(next_step_index)\n",
    "    current_state = next_step_index\n",
    "\n",
    "print(\"Most efficient path:\")\n",
    "print(steps)"
   ]
  },
  {
   "cell_type": "code",
   "execution_count": 21,
   "metadata": {},
   "outputs": [
    {
     "data": {
      "image/png": "[encoded data removed]",
      "text/plain": [
       "<Figure size 432x288 with 1 Axes>"
      ]
     },
     "metadata": {
      "needs_background": "light"
     },
     "output_type": "display_data"
    }
   ],
   "source": [
    "# check the scrores\n",
    "\n",
    "plt.plot(scores)\n",
    "plt.show()"
   ]
  },
  {
   "cell_type": "code",
   "execution_count": null,
   "metadata": {},
   "outputs": [],
   "source": []
  },
  {
   "cell_type": "code",
   "execution_count": null,
   "metadata": {},
   "outputs": [],
   "source": []
  }
 ],
 "metadata": {
  "kernelspec": {
   "display_name": "Python 3",
   "language": "python",
   "name": "python3"
  },
  "language_info": {
   "codemirror_mode": {
    "name": "ipython",
    "version": 3
   },
   "file_extension": ".py",
   "mimetype": "text/x-python",
   "name": "python",
   "nbconvert_exporter": "python",
   "pygments_lexer": "ipython3",
   "version": "3.7.7"
  }
 },
 "nbformat": 4,
 "nbformat_minor": 4
}
